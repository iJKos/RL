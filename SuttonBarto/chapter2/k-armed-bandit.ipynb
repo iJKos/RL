{
 "cells": [
  {
   "cell_type": "code",
   "execution_count": 97,
   "metadata": {
    "collapsed": true
   },
   "outputs": [],
   "source": [
    "import numpy as np\n",
    "import matplotlib.pyplot as plt\n",
    "import seaborn as sns\n",
    "sns.set()\n",
    "\n",
    "%matplotlib inline  "
   ]
  },
  {
   "cell_type": "code",
   "execution_count": 115,
   "metadata": {},
   "outputs": [
    {
     "data": {
      "text/plain": [
       "<matplotlib.axes._subplots.AxesSubplot at 0x7f93f20c3400>"
      ]
     },
     "execution_count": 115,
     "metadata": {},
     "output_type": "execute_result"
    },
    {
     "data": {
      "image/png": "[encoded data removed]",
      "text/plain": [
       "<matplotlib.figure.Figure at 0x7f93f20dd8d0>"
      ]
     },
     "metadata": {},
     "output_type": "display_data"
    }
   ],
   "source": [
    "N_bandits = 20\n",
    "reward_min = -10\n",
    "reward_max = 10\n",
    "reward_dispersion_min = 0\n",
    "reward_dispersion_max = 2\n",
    "\n",
    "Params = []\n",
    "for i in range (0,N_bandits):\n",
    "    mu = np.random.uniform(reward_min,reward_max,1)\n",
    "    sigma = np.random.uniform(reward_dispersion_min,reward_dispersion_max,1)\n",
    "    Params.append((mu,sigma))\n",
    "    \n",
    "    \n",
    "def GetBanditResult(i, n=1):\n",
    "    return np.random.normal(Params[i][0],Params[i][1],n)\n",
    "    \n",
    "    \n",
    "N=100\n",
    "\n",
    "d = [GetBanditResult(i,N) for i in range (0,N_bandits)]\n",
    "\n",
    "\n",
    "fig, ax = plt.subplots()\n",
    "fig.set_size_inches(18.5, 10.5)\n",
    "# Show each distribution with both violins and points\n",
    "sns.lvplot(data=d)\n"
   ]
  },
  {
   "cell_type": "code",
   "execution_count": 101,
   "metadata": {},
   "outputs": [
    {
     "data": {
      "text/plain": [
       "[(array([-5.08237267]), array([ 0.29277705])),\n",
       " (array([ 2.92285225]), array([ 0.40117437])),\n",
       " (array([-8.19861473]), array([ 0.94185994])),\n",
       " (array([ 7.72225906]), array([ 0.92338862])),\n",
       " (array([-5.55295269]), array([ 0.37034219])),\n",
       " (array([ 8.34261362]), array([ 0.86130292])),\n",
       " (array([ 6.80276394]), array([ 0.86421017])),\n",
       " (array([-8.65149926]), array([ 0.7759536])),\n",
       " (array([ 0.30425417]), array([ 0.40039754])),\n",
       " (array([-0.46212771]), array([ 0.26884499])),\n",
       " (array([ 1.58607639]), array([ 0.92712682])),\n",
       " (array([ 9.08183317]), array([ 0.21881542])),\n",
       " (array([-6.07978393]), array([ 0.44598104])),\n",
       " (array([ 3.29841429]), array([ 0.23993369])),\n",
       " (array([-0.06052687]), array([ 0.12768121])),\n",
       " (array([ 8.21334447]), array([ 0.70142382])),\n",
       " (array([-9.21466084]), array([ 0.99255])),\n",
       " (array([-8.86174624]), array([ 0.82642625])),\n",
       " (array([-0.70317174]), array([ 0.34074252])),\n",
       " (array([-4.77146107]), array([ 0.98724413]))]"
      ]
     },
     "execution_count": 101,
     "metadata": {},
     "output_type": "execute_result"
    }
   ],
   "source": [
    "Params"
   ]
  },
  {
   "cell_type": "code",
   "execution_count": 35,
   "metadata": {},
   "outputs": [
    {
     "data": {
      "text/plain": [
       "array([[  1.35281047e+01,   7.33457851e+00,   6.46441452e+00,\n",
       "          7.55031459e+00,   5.68792642e+00,  -9.13353106e-01,\n",
       "          2.17062609e+00,  -6.99922125e-01],\n",
       "       [  9.79356230e+00,   7.35546110e+00,   4.79502570e+00,\n",
       "          5.97707521e+00,   3.47488589e+00,   1.28455269e+00,\n",
       "          1.15817572e+00,   2.70140946e-01],\n",
       "       [  1.29881581e+01,   6.12394757e+00,   5.13307396e+00,\n",
       "          1.36033672e+00,  -3.15316919e+00,   2.34843984e+00,\n",
       "          1.99932165e+00,  -1.88153775e+00],\n",
       "       [  1.45395092e+01,   3.62553275e+00,   4.59845559e+00,\n",
       "          2.69416049e+00,   5.01836887e+00,   3.97992019e+00,\n",
       "          5.80344106e-01,   3.59117331e-01],\n",
       "       [  8.22442850e+00,   2.57267116e+00,   3.81111426e+00,\n",
       "          3.38122613e+00,   4.41339180e+00,   3.44596235e+00,\n",
       "         -5.04204380e-01,  -1.00181321e+00],\n",
       "       [  7.90289407e+00,   3.69422822e+00,   1.09439818e+00,\n",
       "          6.97007898e+00,   9.33506074e-01,   1.65054051e-01,\n",
       "         -2.23514147e+00,   1.15777300e+00],\n",
       "       [  6.77220430e+00,   6.10878354e+00,   2.71600543e+00,\n",
       "          3.84233319e+00,   9.31200163e-01,  -1.32006171e+00,\n",
       "          2.14084798e-01,   4.59456033e-01],\n",
       "       [  1.01330344e+01,   7.13920789e+00,   3.23829437e+00,\n",
       "          2.34304586e+00,   6.07889542e-01,   3.22096331e-01,\n",
       "         -1.35584331e+00,  -3.84977291e+00],\n",
       "       [  1.03548523e+01,   5.73070222e+00,   1.24654186e+00,\n",
       "          3.99409271e+00,   1.38213709e-01,   1.14509345e+00,\n",
       "          1.72863038e+00,  -1.39241887e-01],\n",
       "       [  1.22788014e+01,   4.06461246e+00,   5.31162184e+00,\n",
       "          1.69890801e+00,   2.11216139e-01,  -1.16496676e-01,\n",
       "         -3.52655810e-01,  -2.84877024e-01],\n",
       "       [  7.66970032e+00,   8.33591707e+00,   5.43826344e+00,\n",
       "         -3.95917815e-03,   4.92931483e+00,   4.83298101e+00,\n",
       "          2.62800840e+00,  -7.57057380e-01],\n",
       "       [  7.85849476e+00,   8.64316755e+00,   3.70058466e+00,\n",
       "          5.51341834e+00,   2.36936039e+00,   2.99448073e+00,\n",
       "          9.83182049e-01,   1.01593863e+00],\n",
       "       [  1.00210000e+01,   1.01060051e+01,   4.76076274e+00,\n",
       "          3.87250692e+00,   5.71911183e+00,  -1.65431547e+00,\n",
       "         -2.27052074e+00,   1.54158571e+00],\n",
       "       [  7.65375319e+00,   1.04215065e+01,   3.67970060e+00,\n",
       "          1.57361857e+00,   5.79869449e+00,   4.00223224e+00,\n",
       "          4.00556718e+00,   1.41488161e+00],\n",
       "       [  8.27754863e+00,   1.03543940e+01,   3.97093181e+00,\n",
       "          4.67344099e+00,   3.84731437e+00,   7.31182468e-01,\n",
       "          1.49860800e+00,   1.44720563e+00],\n",
       "       [  1.07528511e+01,   4.33546252e+00,   5.10341491e+00,\n",
       "          5.72129999e+00,   5.63674718e-01,   7.41933573e-01,\n",
       "         -5.99857849e-01,   3.30131975e+00],\n",
       "       [  1.13445895e+01,   7.34918777e+00,   2.96710641e+00,\n",
       "          4.14702658e+00,   6.04145117e-01,   1.10486377e+00,\n",
       "         -1.00124290e+00,   9.55658881e-01],\n",
       "       [  1.11531816e+01,   6.11766659e+00,   5.29895198e+00,\n",
       "          8.82405177e-01,  -1.02970475e+00,   1.91998606e+00,\n",
       "          6.03796245e-01,   8.72855165e-01],\n",
       "       [  1.47662895e+01,   8.42322307e+00,   2.68129411e+00,\n",
       "          5.30256077e+00,  -6.79004383e-01,   1.18033444e-01,\n",
       "          1.33966044e-01,   3.02947773e+00],\n",
       "       [  8.51049036e+00,   4.88138702e+00,   4.31003351e+00,\n",
       "          1.74157162e+00,   4.20608228e+00,  -1.11866036e+00,\n",
       "         -2.02448805e+00,  -1.27284780e+00],\n",
       "       [  9.00393510e+00,   1.03933282e+01,   6.40578017e+00,\n",
       "          3.24363068e+00,  -4.98060600e-01,   2.72992861e+00,\n",
       "         -1.72998144e+00,  -3.48674990e+00],\n",
       "       [  1.23760596e+01,   7.16814932e+00,   6.34865620e+00,\n",
       "          3.70598350e+00,   3.66647166e+00,  -2.60848533e-01,\n",
       "         -1.79803643e+00,   9.65981328e-01],\n",
       "       [  8.39318067e+00,   5.15516454e+00,   3.59587355e+00,\n",
       "          3.10348651e+00,   1.24482262e+00,  -1.70869993e+00,\n",
       "         -1.01678755e+00,  -4.84401401e+00],\n",
       "       [  1.12504629e+01,   3.33014879e+00,   2.29817188e+00,\n",
       "          3.17285835e+00,   4.73684445e-01,   4.12723184e+00,\n",
       "         -2.31526456e+00,   1.36894030e-01],\n",
       "       [  9.92143436e+00,   4.19807710e+00,   5.55349188e+00,\n",
       "          2.72543553e+00,   3.49639154e+00,   2.68821096e+00,\n",
       "          4.59692115e+00,   2.27584819e+00],\n",
       "       [  9.26163632e+00,   6.05550574e+00,   6.70625775e+00,\n",
       "          4.37905566e+00,   3.23307349e+00,  -2.19270943e+00,\n",
       "          2.21797006e-01,  -1.87326953e+00],\n",
       "       [  1.05598492e+01,   6.33796332e+00,   6.32729637e+00,\n",
       "          3.70296462e+00,   3.52546636e+00,   1.08364460e-01,\n",
       "         -1.61844326e+00,  -1.21730709e+00],\n",
       "       [  9.96595917e+00,   7.29256757e+00,   9.02555646e+00,\n",
       "          2.98401389e+00,   4.09204368e-02,   3.49239102e-01,\n",
       "         -6.56742695e-01,   5.65755239e-01],\n",
       "       [  6.91840597e+00,   6.66078809e+00,   4.81995163e+00,\n",
       "          3.53289027e+00,   7.58178300e-01,   5.65359194e-01,\n",
       "         -2.57767256e+00,  -1.38384748e+00],\n",
       "       [  8.91427705e+00,   7.36636419e+00,   2.19457369e+00,\n",
       "          4.63092440e+00,   4.94177953e+00,  -3.09876740e+00,\n",
       "          1.12296672e+00,   9.56608362e-01],\n",
       "       [  8.72512595e+00,   5.73972047e+00,   4.24117740e+00,\n",
       "          2.47294644e+00,   1.33478450e+00,  -2.31080496e+00,\n",
       "          2.57511238e+00,   1.76202948e+00],\n",
       "       [  8.37327148e+00,   3.60141544e+00,   5.54906831e+00,\n",
       "          1.91695225e+00,   2.23671676e+00,   4.02545820e-01,\n",
       "          1.65352676e+00,   9.92290579e-01],\n",
       "       [  8.54880524e+00,   3.76753619e+00,   1.34106176e+00,\n",
       "          4.28928695e+00,  -4.24908078e-01,   2.75699453e-02,\n",
       "         -9.22178822e-01,  -5.02342301e-01],\n",
       "       [  6.12744039e+00,   6.91182129e+00,   5.55472060e+00,\n",
       "          3.24537237e+00,   1.33103809e+00,   1.23600299e+00,\n",
       "          1.06854195e+00,  -5.94239322e+00],\n",
       "       [  1.39118246e+01,   7.31445074e+00,   3.20212139e+00,\n",
       "          2.28662144e+00,   2.94029399e+00,   8.08994776e-01,\n",
       "         -3.79091968e+00,   3.73177801e+00],\n",
       "       [  9.77891869e+00,   8.57460952e+00,   3.12283886e+00,\n",
       "          6.14128230e+00,   2.52549782e+00,   2.25889032e+00,\n",
       "         -1.82005748e+00,   2.02508287e+00],\n",
       "       [  1.13796363e+01,   9.13795656e+00,   3.25076344e+00,\n",
       "          2.10647396e+00,   6.56064383e+00,  -1.07882899e+00,\n",
       "         -1.45014663e-03,   1.87657502e+00],\n",
       "       [  1.01954499e+01,   7.70017146e+00,   3.70804050e+00,\n",
       "          3.80863997e+00,  -6.60243266e-01,   4.35746401e+00,\n",
       "          3.41211645e-02,  -1.75756412e+00],\n",
       "       [  1.13327662e+01,   5.61282452e+00,   1.83842161e+00,\n",
       "          3.75093183e-01,   3.34035674e+00,   7.22055778e-01,\n",
       "          3.04613539e-03,   1.75827990e+00],\n",
       "       [  7.74634838e+00,   5.07290859e+00,   3.73717894e+00,\n",
       "          3.25723137e+00,   1.86846754e+00,   4.67428269e-01,\n",
       "          1.47196451e-01,  -6.11818261e-01]])"
      ]
     },
     "execution_count": 35,
     "metadata": {},
     "output_type": "execute_result"
    }
   ],
   "source": [
    "d"
   ]
  }
 ],
 "metadata": {
  "kernelspec": {
   "display_name": "Python 3",
   "language": "python",
   "name": "python3"
  },
  "language_info": {
   "codemirror_mode": {
    "name": "ipython",
    "version": 3
   },
   "file_extension": ".py",
   "mimetype": "text/x-python",
   "name": "python",
   "nbconvert_exporter": "python",
   "pygments_lexer": "ipython3",
   "version": "3.6.1"
  }
 },
 "nbformat": 4,
 "nbformat_minor": 2
}
